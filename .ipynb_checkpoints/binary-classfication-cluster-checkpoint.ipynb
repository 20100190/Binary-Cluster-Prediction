{
 "cells": [
  {
   "cell_type": "code",
   "execution_count": null,
   "metadata": {},
   "outputs": [],
   "source": []
  },
  {
   "cell_type": "code",
   "execution_count": 2,
   "metadata": {},
   "outputs": [],
   "source": [
    "#!pip3 freeze > \"../requirements.txt\"\n",
    "#!pip3 install -r \"../requirements.txt\"  # giving some error\n",
    "\n",
    "import pandas as pd\n",
    "import numpy as np\n",
    "import copy\n",
    "import glob\n",
    "import re\n",
    "import pickle\n",
    "import datetime as dt\n",
    "from datetime import timezone\n",
    "from sklearn.preprocessing import StandardScaler\n",
    "from sklearn.model_selection import train_test_split\n",
    "from sklearn.metrics import classification_report\n",
    "from sklearn.impute import KNNImputer\n",
    "from sklearn.cluster import KMeans\n",
    "import plotly.express as px\n",
    "\n",
    "pd.set_option('display.max_rows', 500)\n",
    "pd.set_option('display.max_columns', 500) \n"
   ]
  },
  {
   "cell_type": "code",
   "execution_count": 3,
   "metadata": {},
   "outputs": [
    {
     "name": "stdout",
     "output_type": "stream",
     "text": [
      "(49477, 21)\n"
     ]
    },
    {
     "data": {
      "application/vnd.plotly.v1+json": {
       "config": {
        "plotlyServerURL": "https://plot.ly"
       },
       "data": [
        {
         "alignmentgroup": "True",
         "customdata": [
          [
           76.16
          ],
          [
           23.84
          ]
         ],
         "hovertemplate": "Is HQ Developer?=%{x}<br>Number of Developers=%{y}<br>dev_per=%{customdata[0]}<extra></extra>",
         "legendgroup": "",
         "marker": {
          "color": "#636efa",
          "pattern": {
           "shape": ""
          }
         },
         "name": "",
         "offsetgroup": "",
         "orientation": "v",
         "showlegend": false,
         "text": [
          76.16,
          23.84
         ],
         "textposition": "auto",
         "type": "bar",
         "x": [
          0,
          1
         ],
         "xaxis": "x",
         "y": [
          37684,
          11793
         ],
         "yaxis": "y"
        }
       ],
       "layout": {
        "barmode": "relative",
        "height": 400,
        "legend": {
         "tracegroupgap": 0
        },
        "margin": {
         "t": 60
        },
        "template": {
         "data": {
          "bar": [
           {
            "error_x": {
             "color": "#2a3f5f"
            },
            "error_y": {
             "color": "#2a3f5f"
            },
            "marker": {
             "line": {
              "color": "#E5ECF6",
              "width": 0.5
             },
             "pattern": {
              "fillmode": "overlay",
              "size": 10,
              "solidity": 0.2
             }
            },
            "type": "bar"
           }
          ],
          "barpolar": [
           {
            "marker": {
             "line": {
              "color": "#E5ECF6",
              "width": 0.5
             },
             "pattern": {
              "fillmode": "overlay",
              "size": 10,
              "solidity": 0.2
             }
            },
            "type": "barpolar"
           }
          ],
          "carpet": [
           {
            "aaxis": {
             "endlinecolor": "#2a3f5f",
             "gridcolor": "white",
             "linecolor": "white",
             "minorgridcolor": "white",
             "startlinecolor": "#2a3f5f"
            },
            "baxis": {
             "endlinecolor": "#2a3f5f",
             "gridcolor": "white",
             "linecolor": "white",
             "minorgridcolor": "white",
             "startlinecolor": "#2a3f5f"
            },
            "type": "carpet"
           }
          ],
          "choropleth": [
           {
            "colorbar": {
             "outlinewidth": 0,
             "ticks": ""
            },
            "type": "choropleth"
           }
          ],
          "contour": [
           {
            "colorbar": {
             "outlinewidth": 0,
             "ticks": ""
            },
            "colorscale": [
             [
              0,
              "#0d0887"
             ],
             [
              0.1111111111111111,
              "#46039f"
             ],
             [
              0.2222222222222222,
              "#7201a8"
             ],
             [
              0.3333333333333333,
              "#9c179e"
             ],
             [
              0.4444444444444444,
              "#bd3786"
             ],
             [
              0.5555555555555556,
              "#d8576b"
             ],
             [
              0.6666666666666666,
              "#ed7953"
             ],
             [
              0.7777777777777778,
              "#fb9f3a"
             ],
             [
              0.8888888888888888,
              "#fdca26"
             ],
             [
              1,
              "#f0f921"
             ]
            ],
            "type": "contour"
           }
          ],
          "contourcarpet": [
           {
            "colorbar": {
             "outlinewidth": 0,
             "ticks": ""
            },
            "type": "contourcarpet"
           }
          ],
          "heatmap": [
           {
            "colorbar": {
             "outlinewidth": 0,
             "ticks": ""
            },
            "colorscale": [
             [
              0,
              "#0d0887"
             ],
             [
              0.1111111111111111,
              "#46039f"
             ],
             [
              0.2222222222222222,
              "#7201a8"
             ],
             [
              0.3333333333333333,
              "#9c179e"
             ],
             [
              0.4444444444444444,
              "#bd3786"
             ],
             [
              0.5555555555555556,
              "#d8576b"
             ],
             [
              0.6666666666666666,
              "#ed7953"
             ],
             [
              0.7777777777777778,
              "#fb9f3a"
             ],
             [
              0.8888888888888888,
              "#fdca26"
             ],
             [
              1,
              "#f0f921"
             ]
            ],
            "type": "heatmap"
           }
          ],
          "heatmapgl": [
           {
            "colorbar": {
             "outlinewidth": 0,
             "ticks": ""
            },
            "colorscale": [
             [
              0,
              "#0d0887"
             ],
             [
              0.1111111111111111,
              "#46039f"
             ],
             [
              0.2222222222222222,
              "#7201a8"
             ],
             [
              0.3333333333333333,
              "#9c179e"
             ],
             [
              0.4444444444444444,
              "#bd3786"
             ],
             [
              0.5555555555555556,
              "#d8576b"
             ],
             [
              0.6666666666666666,
              "#ed7953"
             ],
             [
              0.7777777777777778,
              "#fb9f3a"
             ],
             [
              0.8888888888888888,
              "#fdca26"
             ],
             [
              1,
              "#f0f921"
             ]
            ],
            "type": "heatmapgl"
           }
          ],
          "histogram": [
           {
            "marker": {
             "pattern": {
              "fillmode": "overlay",
              "size": 10,
              "solidity": 0.2
             }
            },
            "type": "histogram"
           }
          ],
          "histogram2d": [
           {
            "colorbar": {
             "outlinewidth": 0,
             "ticks": ""
            },
            "colorscale": [
             [
              0,
              "#0d0887"
             ],
             [
              0.1111111111111111,
              "#46039f"
             ],
             [
              0.2222222222222222,
              "#7201a8"
             ],
             [
              0.3333333333333333,
              "#9c179e"
             ],
             [
              0.4444444444444444,
              "#bd3786"
             ],
             [
              0.5555555555555556,
              "#d8576b"
             ],
             [
              0.6666666666666666,
              "#ed7953"
             ],
             [
              0.7777777777777778,
              "#fb9f3a"
             ],
             [
              0.8888888888888888,
              "#fdca26"
             ],
             [
              1,
              "#f0f921"
             ]
            ],
            "type": "histogram2d"
           }
          ],
          "histogram2dcontour": [
           {
            "colorbar": {
             "outlinewidth": 0,
             "ticks": ""
            },
            "colorscale": [
             [
              0,
              "#0d0887"
             ],
             [
              0.1111111111111111,
              "#46039f"
             ],
             [
              0.2222222222222222,
              "#7201a8"
             ],
             [
              0.3333333333333333,
              "#9c179e"
             ],
             [
              0.4444444444444444,
              "#bd3786"
             ],
             [
              0.5555555555555556,
              "#d8576b"
             ],
             [
              0.6666666666666666,
              "#ed7953"
             ],
             [
              0.7777777777777778,
              "#fb9f3a"
             ],
             [
              0.8888888888888888,
              "#fdca26"
             ],
             [
              1,
              "#f0f921"
             ]
            ],
            "type": "histogram2dcontour"
           }
          ],
          "mesh3d": [
           {
            "colorbar": {
             "outlinewidth": 0,
             "ticks": ""
            },
            "type": "mesh3d"
           }
          ],
          "parcoords": [
           {
            "line": {
             "colorbar": {
              "outlinewidth": 0,
              "ticks": ""
             }
            },
            "type": "parcoords"
           }
          ],
          "pie": [
           {
            "automargin": true,
            "type": "pie"
           }
          ],
          "scatter": [
           {
            "fillpattern": {
             "fillmode": "overlay",
             "size": 10,
             "solidity": 0.2
            },
            "type": "scatter"
           }
          ],
          "scatter3d": [
           {
            "line": {
             "colorbar": {
              "outlinewidth": 0,
              "ticks": ""
             }
            },
            "marker": {
             "colorbar": {
              "outlinewidth": 0,
              "ticks": ""
             }
            },
            "type": "scatter3d"
           }
          ],
          "scattercarpet": [
           {
            "marker": {
             "colorbar": {
              "outlinewidth": 0,
              "ticks": ""
             }
            },
            "type": "scattercarpet"
           }
          ],
          "scattergeo": [
           {
            "marker": {
             "colorbar": {
              "outlinewidth": 0,
              "ticks": ""
             }
            },
            "type": "scattergeo"
           }
          ],
          "scattergl": [
           {
            "marker": {
             "colorbar": {
              "outlinewidth": 0,
              "ticks": ""
             }
            },
            "type": "scattergl"
           }
          ],
          "scattermapbox": [
           {
            "marker": {
             "colorbar": {
              "outlinewidth": 0,
              "ticks": ""
             }
            },
            "type": "scattermapbox"
           }
          ],
          "scatterpolar": [
           {
            "marker": {
             "colorbar": {
              "outlinewidth": 0,
              "ticks": ""
             }
            },
            "type": "scatterpolar"
           }
          ],
          "scatterpolargl": [
           {
            "marker": {
             "colorbar": {
              "outlinewidth": 0,
              "ticks": ""
             }
            },
            "type": "scatterpolargl"
           }
          ],
          "scatterternary": [
           {
            "marker": {
             "colorbar": {
              "outlinewidth": 0,
              "ticks": ""
             }
            },
            "type": "scatterternary"
           }
          ],
          "surface": [
           {
            "colorbar": {
             "outlinewidth": 0,
             "ticks": ""
            },
            "colorscale": [
             [
              0,
              "#0d0887"
             ],
             [
              0.1111111111111111,
              "#46039f"
             ],
             [
              0.2222222222222222,
              "#7201a8"
             ],
             [
              0.3333333333333333,
              "#9c179e"
             ],
             [
              0.4444444444444444,
              "#bd3786"
             ],
             [
              0.5555555555555556,
              "#d8576b"
             ],
             [
              0.6666666666666666,
              "#ed7953"
             ],
             [
              0.7777777777777778,
              "#fb9f3a"
             ],
             [
              0.8888888888888888,
              "#fdca26"
             ],
             [
              1,
              "#f0f921"
             ]
            ],
            "type": "surface"
           }
          ],
          "table": [
           {
            "cells": {
             "fill": {
              "color": "#EBF0F8"
             },
             "line": {
              "color": "white"
             }
            },
            "header": {
             "fill": {
              "color": "#C8D4E3"
             },
             "line": {
              "color": "white"
             }
            },
            "type": "table"
           }
          ]
         },
         "layout": {
          "annotationdefaults": {
           "arrowcolor": "#2a3f5f",
           "arrowhead": 0,
           "arrowwidth": 1
          },
          "autotypenumbers": "strict",
          "coloraxis": {
           "colorbar": {
            "outlinewidth": 0,
            "ticks": ""
           }
          },
          "colorscale": {
           "diverging": [
            [
             0,
             "#8e0152"
            ],
            [
             0.1,
             "#c51b7d"
            ],
            [
             0.2,
             "#de77ae"
            ],
            [
             0.3,
             "#f1b6da"
            ],
            [
             0.4,
             "#fde0ef"
            ],
            [
             0.5,
             "#f7f7f7"
            ],
            [
             0.6,
             "#e6f5d0"
            ],
            [
             0.7,
             "#b8e186"
            ],
            [
             0.8,
             "#7fbc41"
            ],
            [
             0.9,
             "#4d9221"
            ],
            [
             1,
             "#276419"
            ]
           ],
           "sequential": [
            [
             0,
             "#0d0887"
            ],
            [
             0.1111111111111111,
             "#46039f"
            ],
            [
             0.2222222222222222,
             "#7201a8"
            ],
            [
             0.3333333333333333,
             "#9c179e"
            ],
            [
             0.4444444444444444,
             "#bd3786"
            ],
            [
             0.5555555555555556,
             "#d8576b"
            ],
            [
             0.6666666666666666,
             "#ed7953"
            ],
            [
             0.7777777777777778,
             "#fb9f3a"
            ],
            [
             0.8888888888888888,
             "#fdca26"
            ],
            [
             1,
             "#f0f921"
            ]
           ],
           "sequentialminus": [
            [
             0,
             "#0d0887"
            ],
            [
             0.1111111111111111,
             "#46039f"
            ],
            [
             0.2222222222222222,
             "#7201a8"
            ],
            [
             0.3333333333333333,
             "#9c179e"
            ],
            [
             0.4444444444444444,
             "#bd3786"
            ],
            [
             0.5555555555555556,
             "#d8576b"
            ],
            [
             0.6666666666666666,
             "#ed7953"
            ],
            [
             0.7777777777777778,
             "#fb9f3a"
            ],
            [
             0.8888888888888888,
             "#fdca26"
            ],
            [
             1,
             "#f0f921"
            ]
           ]
          },
          "colorway": [
           "#636efa",
           "#EF553B",
           "#00cc96",
           "#ab63fa",
           "#FFA15A",
           "#19d3f3",
           "#FF6692",
           "#B6E880",
           "#FF97FF",
           "#FECB52"
          ],
          "font": {
           "color": "#2a3f5f"
          },
          "geo": {
           "bgcolor": "white",
           "lakecolor": "white",
           "landcolor": "#E5ECF6",
           "showlakes": true,
           "showland": true,
           "subunitcolor": "white"
          },
          "hoverlabel": {
           "align": "left"
          },
          "hovermode": "closest",
          "mapbox": {
           "style": "light"
          },
          "paper_bgcolor": "white",
          "plot_bgcolor": "#E5ECF6",
          "polar": {
           "angularaxis": {
            "gridcolor": "white",
            "linecolor": "white",
            "ticks": ""
           },
           "bgcolor": "#E5ECF6",
           "radialaxis": {
            "gridcolor": "white",
            "linecolor": "white",
            "ticks": ""
           }
          },
          "scene": {
           "xaxis": {
            "backgroundcolor": "#E5ECF6",
            "gridcolor": "white",
            "gridwidth": 2,
            "linecolor": "white",
            "showbackground": true,
            "ticks": "",
            "zerolinecolor": "white"
           },
           "yaxis": {
            "backgroundcolor": "#E5ECF6",
            "gridcolor": "white",
            "gridwidth": 2,
            "linecolor": "white",
            "showbackground": true,
            "ticks": "",
            "zerolinecolor": "white"
           },
           "zaxis": {
            "backgroundcolor": "#E5ECF6",
            "gridcolor": "white",
            "gridwidth": 2,
            "linecolor": "white",
            "showbackground": true,
            "ticks": "",
            "zerolinecolor": "white"
           }
          },
          "shapedefaults": {
           "line": {
            "color": "#2a3f5f"
           }
          },
          "ternary": {
           "aaxis": {
            "gridcolor": "white",
            "linecolor": "white",
            "ticks": ""
           },
           "baxis": {
            "gridcolor": "white",
            "linecolor": "white",
            "ticks": ""
           },
           "bgcolor": "#E5ECF6",
           "caxis": {
            "gridcolor": "white",
            "linecolor": "white",
            "ticks": ""
           }
          },
          "title": {
           "x": 0.05
          },
          "xaxis": {
           "automargin": true,
           "gridcolor": "white",
           "linecolor": "white",
           "ticks": "",
           "title": {
            "standoff": 15
           },
           "zerolinecolor": "white",
           "zerolinewidth": 2
          },
          "yaxis": {
           "automargin": true,
           "gridcolor": "white",
           "linecolor": "white",
           "ticks": "",
           "title": {
            "standoff": 15
           },
           "zerolinecolor": "white",
           "zerolinewidth": 2
          }
         }
        },
        "xaxis": {
         "anchor": "y",
         "domain": [
          0,
          1
         ],
         "title": {
          "text": "Is HQ Developer?"
         },
         "type": "category"
        },
        "yaxis": {
         "anchor": "x",
         "domain": [
          0,
          1
         ],
         "title": {
          "text": "Number of Developers"
         }
        }
       }
      }
     },
     "metadata": {},
     "output_type": "display_data"
    },
    {
     "data": {
      "text/html": [
       "<div>\n",
       "<style scoped>\n",
       "    .dataframe tbody tr th:only-of-type {\n",
       "        vertical-align: middle;\n",
       "    }\n",
       "\n",
       "    .dataframe tbody tr th {\n",
       "        vertical-align: top;\n",
       "    }\n",
       "\n",
       "    .dataframe thead th {\n",
       "        text-align: right;\n",
       "    }\n",
       "</style>\n",
       "<table border=\"1\" class=\"dataframe\">\n",
       "  <thead>\n",
       "    <tr style=\"text-align: right;\">\n",
       "      <th></th>\n",
       "      <th>dev_id</th>\n",
       "      <th>source_attribution_type</th>\n",
       "      <th>user_os_type</th>\n",
       "      <th>quiz_answer</th>\n",
       "      <th>resume_flag</th>\n",
       "      <th>num_chars_resume</th>\n",
       "      <th>years_of_experience</th>\n",
       "      <th>years_of_remote_experience</th>\n",
       "      <th>english_communication</th>\n",
       "      <th>role_type</th>\n",
       "      <th>sn_avg_score</th>\n",
       "      <th>num_self_skills</th>\n",
       "      <th>num_self_beginner_skills</th>\n",
       "      <th>num_self_intermediate_skills</th>\n",
       "      <th>num_self_advanced_skills</th>\n",
       "      <th>num_self_expert_skills</th>\n",
       "      <th>time_to_upload_resume</th>\n",
       "      <th>time_to_sn_test</th>\n",
       "      <th>label</th>\n",
       "      <th>is_github</th>\n",
       "      <th>is_quiz_answer_correct</th>\n",
       "    </tr>\n",
       "  </thead>\n",
       "  <tbody>\n",
       "    <tr>\n",
       "      <th>0</th>\n",
       "      <td>2565330</td>\n",
       "      <td>Google</td>\n",
       "      <td>Linux</td>\n",
       "      <td>MAX_NUM += 1</td>\n",
       "      <td>True</td>\n",
       "      <td>3557.0</td>\n",
       "      <td>10.0</td>\n",
       "      <td>5.0</td>\n",
       "      <td>Great</td>\n",
       "      <td>Fullstack (BE-heavy)</td>\n",
       "      <td>4.7075</td>\n",
       "      <td>20.0</td>\n",
       "      <td>2.0</td>\n",
       "      <td>8.0</td>\n",
       "      <td>4.0</td>\n",
       "      <td>6.0</td>\n",
       "      <td>0.0</td>\n",
       "      <td>0.0</td>\n",
       "      <td>0</td>\n",
       "      <td>0</td>\n",
       "      <td>0</td>\n",
       "    </tr>\n",
       "    <tr>\n",
       "      <th>1</th>\n",
       "      <td>630845</td>\n",
       "      <td>Google</td>\n",
       "      <td>Android OS</td>\n",
       "      <td>MAX_NUM = NUM</td>\n",
       "      <td>True</td>\n",
       "      <td>1720.0</td>\n",
       "      <td>5.0</td>\n",
       "      <td>5.0</td>\n",
       "      <td>Great</td>\n",
       "      <td>Fullstack (BE-heavy)</td>\n",
       "      <td>3.8050</td>\n",
       "      <td>19.0</td>\n",
       "      <td>0.0</td>\n",
       "      <td>6.0</td>\n",
       "      <td>5.0</td>\n",
       "      <td>8.0</td>\n",
       "      <td>1.0</td>\n",
       "      <td>1.0</td>\n",
       "      <td>0</td>\n",
       "      <td>1</td>\n",
       "      <td>1</td>\n",
       "    </tr>\n",
       "  </tbody>\n",
       "</table>\n",
       "</div>"
      ],
      "text/plain": [
       "    dev_id source_attribution_type user_os_type    quiz_answer  resume_flag  \\\n",
       "0  2565330                  Google        Linux   MAX_NUM += 1         True   \n",
       "1   630845                  Google   Android OS  MAX_NUM = NUM         True   \n",
       "\n",
       "   num_chars_resume  years_of_experience  years_of_remote_experience  \\\n",
       "0            3557.0                 10.0                         5.0   \n",
       "1            1720.0                  5.0                         5.0   \n",
       "\n",
       "  english_communication             role_type  sn_avg_score  num_self_skills  \\\n",
       "0                 Great  Fullstack (BE-heavy)        4.7075             20.0   \n",
       "1                 Great  Fullstack (BE-heavy)        3.8050             19.0   \n",
       "\n",
       "   num_self_beginner_skills  num_self_intermediate_skills  \\\n",
       "0                       2.0                           8.0   \n",
       "1                       0.0                           6.0   \n",
       "\n",
       "   num_self_advanced_skills  num_self_expert_skills  time_to_upload_resume  \\\n",
       "0                       4.0                     6.0                    0.0   \n",
       "1                       5.0                     8.0                    1.0   \n",
       "\n",
       "   time_to_sn_test  label  is_github  is_quiz_answer_correct  \n",
       "0              0.0      0          0                       0  \n",
       "1              1.0      0          1                       1  "
      ]
     },
     "execution_count": 3,
     "metadata": {},
     "output_type": "execute_result"
    }
   ],
   "source": [
    "data = pd.read_csv('1.1-mu-process-data-05-09-22.csv', index_col=0)\n",
    "print(data.shape)\n",
    "\n",
    "df =data.groupby('label').agg({'dev_id':'count'}).reset_index()\n",
    "df['dev_per'] = round(100*df['dev_id']/sum(df['dev_id']),2)\n",
    "df = df.sort_values(by='dev_id', ascending=False)\n",
    "fig = px.bar(df, x='label', y='dev_id',\n",
    "             hover_data=['dev_id', 'dev_per'], text='dev_per',\n",
    "             labels={'label':'Is HQ Developer?','dev_id':'Number of Developers'}, height=400)\n",
    "fig.update_xaxes(type='category')\n",
    "fig.show()\n",
    "\n",
    "data.head(2)"
   ]
  },
  {
   "cell_type": "code",
   "execution_count": null,
   "metadata": {},
   "outputs": [],
   "source": []
  },
  {
   "cell_type": "markdown",
   "metadata": {},
   "source": [
    "# Numerical coding and Normalization\n",
    "- if need to use non normalized data then use `X` , it's numerical coded non normalized data\n",
    "- for normalized data we have `rescaledX_df`"
   ]
  },
  {
   "cell_type": "code",
   "execution_count": 4,
   "metadata": {},
   "outputs": [
    {
     "name": "stdout",
     "output_type": "stream",
     "text": [
      "(49477, 19) (49477,)\n"
     ]
    },
    {
     "data": {
      "text/html": [
       "<div>\n",
       "<style scoped>\n",
       "    .dataframe tbody tr th:only-of-type {\n",
       "        vertical-align: middle;\n",
       "    }\n",
       "\n",
       "    .dataframe tbody tr th {\n",
       "        vertical-align: top;\n",
       "    }\n",
       "\n",
       "    .dataframe thead th {\n",
       "        text-align: right;\n",
       "    }\n",
       "</style>\n",
       "<table border=\"1\" class=\"dataframe\">\n",
       "  <thead>\n",
       "    <tr style=\"text-align: right;\">\n",
       "      <th></th>\n",
       "      <th>source_attribution_type</th>\n",
       "      <th>user_os_type</th>\n",
       "      <th>quiz_answer</th>\n",
       "      <th>resume_flag</th>\n",
       "      <th>num_chars_resume</th>\n",
       "      <th>years_of_experience</th>\n",
       "      <th>years_of_remote_experience</th>\n",
       "      <th>english_communication</th>\n",
       "      <th>role_type</th>\n",
       "      <th>sn_avg_score</th>\n",
       "      <th>num_self_skills</th>\n",
       "      <th>num_self_beginner_skills</th>\n",
       "      <th>num_self_intermediate_skills</th>\n",
       "      <th>num_self_advanced_skills</th>\n",
       "      <th>num_self_expert_skills</th>\n",
       "      <th>is_github</th>\n",
       "      <th>time_to_upload_resume</th>\n",
       "      <th>time_to_sn_test</th>\n",
       "      <th>is_quiz_answer_correct</th>\n",
       "    </tr>\n",
       "  </thead>\n",
       "  <tbody>\n",
       "    <tr>\n",
       "      <th>count</th>\n",
       "      <td>49477.00</td>\n",
       "      <td>49477.00</td>\n",
       "      <td>49477.00</td>\n",
       "      <td>49477.00</td>\n",
       "      <td>49477.00</td>\n",
       "      <td>49477.00</td>\n",
       "      <td>49477.00</td>\n",
       "      <td>49477.00</td>\n",
       "      <td>49477.00</td>\n",
       "      <td>49477.00</td>\n",
       "      <td>49477.00</td>\n",
       "      <td>49477.00</td>\n",
       "      <td>49477.00</td>\n",
       "      <td>49477.00</td>\n",
       "      <td>49477.00</td>\n",
       "      <td>49477.00</td>\n",
       "      <td>49477.00</td>\n",
       "      <td>49477.00</td>\n",
       "      <td>49477.00</td>\n",
       "    </tr>\n",
       "    <tr>\n",
       "      <th>mean</th>\n",
       "      <td>0.00</td>\n",
       "      <td>0.00</td>\n",
       "      <td>-0.00</td>\n",
       "      <td>0.00</td>\n",
       "      <td>-0.00</td>\n",
       "      <td>-0.00</td>\n",
       "      <td>0.00</td>\n",
       "      <td>0.00</td>\n",
       "      <td>0.00</td>\n",
       "      <td>-0.00</td>\n",
       "      <td>-0.00</td>\n",
       "      <td>0.00</td>\n",
       "      <td>0.00</td>\n",
       "      <td>-0.00</td>\n",
       "      <td>0.00</td>\n",
       "      <td>0.00</td>\n",
       "      <td>0.00</td>\n",
       "      <td>0.00</td>\n",
       "      <td>0.00</td>\n",
       "    </tr>\n",
       "    <tr>\n",
       "      <th>std</th>\n",
       "      <td>1.00</td>\n",
       "      <td>1.00</td>\n",
       "      <td>1.00</td>\n",
       "      <td>1.00</td>\n",
       "      <td>1.00</td>\n",
       "      <td>1.00</td>\n",
       "      <td>1.00</td>\n",
       "      <td>1.00</td>\n",
       "      <td>1.00</td>\n",
       "      <td>1.00</td>\n",
       "      <td>1.00</td>\n",
       "      <td>1.00</td>\n",
       "      <td>1.00</td>\n",
       "      <td>1.00</td>\n",
       "      <td>1.00</td>\n",
       "      <td>1.00</td>\n",
       "      <td>1.00</td>\n",
       "      <td>1.00</td>\n",
       "      <td>1.00</td>\n",
       "    </tr>\n",
       "    <tr>\n",
       "      <th>min</th>\n",
       "      <td>-3.30</td>\n",
       "      <td>-1.76</td>\n",
       "      <td>-2.14</td>\n",
       "      <td>-3.87</td>\n",
       "      <td>-1.42</td>\n",
       "      <td>-1.30</td>\n",
       "      <td>-0.95</td>\n",
       "      <td>-1.64</td>\n",
       "      <td>-3.68</td>\n",
       "      <td>-3.46</td>\n",
       "      <td>-1.47</td>\n",
       "      <td>-0.78</td>\n",
       "      <td>-1.07</td>\n",
       "      <td>-0.91</td>\n",
       "      <td>-0.75</td>\n",
       "      <td>-1.16</td>\n",
       "      <td>-3.16</td>\n",
       "      <td>-0.48</td>\n",
       "      <td>-1.63</td>\n",
       "    </tr>\n",
       "    <tr>\n",
       "      <th>25%</th>\n",
       "      <td>-0.91</td>\n",
       "      <td>-0.45</td>\n",
       "      <td>-0.26</td>\n",
       "      <td>0.26</td>\n",
       "      <td>-0.54</td>\n",
       "      <td>-0.68</td>\n",
       "      <td>-0.49</td>\n",
       "      <td>-1.64</td>\n",
       "      <td>-0.91</td>\n",
       "      <td>-0.69</td>\n",
       "      <td>-0.71</td>\n",
       "      <td>-0.78</td>\n",
       "      <td>-0.69</td>\n",
       "      <td>-0.67</td>\n",
       "      <td>-0.75</td>\n",
       "      <td>-1.16</td>\n",
       "      <td>0.01</td>\n",
       "      <td>-0.48</td>\n",
       "      <td>-1.63</td>\n",
       "    </tr>\n",
       "    <tr>\n",
       "      <th>50%</th>\n",
       "      <td>0.53</td>\n",
       "      <td>0.21</td>\n",
       "      <td>-0.26</td>\n",
       "      <td>0.26</td>\n",
       "      <td>-0.19</td>\n",
       "      <td>-0.27</td>\n",
       "      <td>-0.03</td>\n",
       "      <td>0.64</td>\n",
       "      <td>-0.22</td>\n",
       "      <td>-0.03</td>\n",
       "      <td>-0.20</td>\n",
       "      <td>-0.44</td>\n",
       "      <td>-0.31</td>\n",
       "      <td>-0.21</td>\n",
       "      <td>-0.39</td>\n",
       "      <td>0.86</td>\n",
       "      <td>0.01</td>\n",
       "      <td>-0.46</td>\n",
       "      <td>0.62</td>\n",
       "    </tr>\n",
       "    <tr>\n",
       "      <th>75%</th>\n",
       "      <td>0.53</td>\n",
       "      <td>0.87</td>\n",
       "      <td>-0.26</td>\n",
       "      <td>0.26</td>\n",
       "      <td>0.35</td>\n",
       "      <td>0.35</td>\n",
       "      <td>0.43</td>\n",
       "      <td>0.64</td>\n",
       "      <td>1.17</td>\n",
       "      <td>0.66</td>\n",
       "      <td>0.48</td>\n",
       "      <td>0.42</td>\n",
       "      <td>0.44</td>\n",
       "      <td>0.49</td>\n",
       "      <td>0.32</td>\n",
       "      <td>0.86</td>\n",
       "      <td>0.01</td>\n",
       "      <td>-0.10</td>\n",
       "      <td>0.62</td>\n",
       "    </tr>\n",
       "    <tr>\n",
       "      <th>max</th>\n",
       "      <td>1.49</td>\n",
       "      <td>1.53</td>\n",
       "      <td>2.56</td>\n",
       "      <td>0.26</td>\n",
       "      <td>15.64</td>\n",
       "      <td>9.05</td>\n",
       "      <td>22.01</td>\n",
       "      <td>0.64</td>\n",
       "      <td>1.51</td>\n",
       "      <td>5.45</td>\n",
       "      <td>11.87</td>\n",
       "      <td>10.14</td>\n",
       "      <td>18.86</td>\n",
       "      <td>13.03</td>\n",
       "      <td>13.40</td>\n",
       "      <td>0.86</td>\n",
       "      <td>4.20</td>\n",
       "      <td>5.58</td>\n",
       "      <td>0.62</td>\n",
       "    </tr>\n",
       "  </tbody>\n",
       "</table>\n",
       "</div>"
      ],
      "text/plain": [
       "       source_attribution_type  user_os_type  quiz_answer  resume_flag  \\\n",
       "count                 49477.00      49477.00     49477.00     49477.00   \n",
       "mean                      0.00          0.00        -0.00         0.00   \n",
       "std                       1.00          1.00         1.00         1.00   \n",
       "min                      -3.30         -1.76        -2.14        -3.87   \n",
       "25%                      -0.91         -0.45        -0.26         0.26   \n",
       "50%                       0.53          0.21        -0.26         0.26   \n",
       "75%                       0.53          0.87        -0.26         0.26   \n",
       "max                       1.49          1.53         2.56         0.26   \n",
       "\n",
       "       num_chars_resume  years_of_experience  years_of_remote_experience  \\\n",
       "count          49477.00             49477.00                    49477.00   \n",
       "mean              -0.00                -0.00                        0.00   \n",
       "std                1.00                 1.00                        1.00   \n",
       "min               -1.42                -1.30                       -0.95   \n",
       "25%               -0.54                -0.68                       -0.49   \n",
       "50%               -0.19                -0.27                       -0.03   \n",
       "75%                0.35                 0.35                        0.43   \n",
       "max               15.64                 9.05                       22.01   \n",
       "\n",
       "       english_communication  role_type  sn_avg_score  num_self_skills  \\\n",
       "count               49477.00   49477.00      49477.00         49477.00   \n",
       "mean                    0.00       0.00         -0.00            -0.00   \n",
       "std                     1.00       1.00          1.00             1.00   \n",
       "min                    -1.64      -3.68         -3.46            -1.47   \n",
       "25%                    -1.64      -0.91         -0.69            -0.71   \n",
       "50%                     0.64      -0.22         -0.03            -0.20   \n",
       "75%                     0.64       1.17          0.66             0.48   \n",
       "max                     0.64       1.51          5.45            11.87   \n",
       "\n",
       "       num_self_beginner_skills  num_self_intermediate_skills  \\\n",
       "count                  49477.00                      49477.00   \n",
       "mean                       0.00                          0.00   \n",
       "std                        1.00                          1.00   \n",
       "min                       -0.78                         -1.07   \n",
       "25%                       -0.78                         -0.69   \n",
       "50%                       -0.44                         -0.31   \n",
       "75%                        0.42                          0.44   \n",
       "max                       10.14                         18.86   \n",
       "\n",
       "       num_self_advanced_skills  num_self_expert_skills  is_github  \\\n",
       "count                  49477.00                49477.00   49477.00   \n",
       "mean                      -0.00                    0.00       0.00   \n",
       "std                        1.00                    1.00       1.00   \n",
       "min                       -0.91                   -0.75      -1.16   \n",
       "25%                       -0.67                   -0.75      -1.16   \n",
       "50%                       -0.21                   -0.39       0.86   \n",
       "75%                        0.49                    0.32       0.86   \n",
       "max                       13.03                   13.40       0.86   \n",
       "\n",
       "       time_to_upload_resume  time_to_sn_test  is_quiz_answer_correct  \n",
       "count               49477.00         49477.00                49477.00  \n",
       "mean                    0.00             0.00                    0.00  \n",
       "std                     1.00             1.00                    1.00  \n",
       "min                    -3.16            -0.48                   -1.63  \n",
       "25%                     0.01            -0.48                   -1.63  \n",
       "50%                     0.01            -0.46                    0.62  \n",
       "75%                     0.01            -0.10                    0.62  \n",
       "max                     4.20             5.58                    0.62  "
      ]
     },
     "execution_count": 4,
     "metadata": {},
     "output_type": "execute_result"
    }
   ],
   "source": [
    "# filter list of predictor after looking at eda\n",
    "\n",
    "predictors = ['source_attribution_type', 'user_os_type', 'quiz_answer', 'resume_flag', 'num_chars_resume',\n",
    "              'years_of_experience','years_of_remote_experience','english_communication', 'role_type',\n",
    "              'sn_avg_score','num_self_skills', 'num_self_beginner_skills', 'num_self_intermediate_skills',\n",
    "              'num_self_advanced_skills', 'num_self_expert_skills', 'is_github', 'time_to_upload_resume',\n",
    "              'time_to_sn_test','is_quiz_answer_correct']\n",
    "\n",
    "target = ['label']\n",
    "ID = ['dev_id']\n",
    "\n",
    "X = data[predictors].copy()\n",
    "Y = data['label'].astype(int)\n",
    "ID = data[ID]\n",
    "X_copy = copy.deepcopy(X)\n",
    "\n",
    "print(X.shape , Y.shape)\n",
    "num_cols = [col for col in X.columns if X[col].dtype!='object']\n",
    "obj_cols = [col for col in X.columns if X[col].dtype=='object']\n",
    "\n",
    "for col in (obj_cols):\n",
    "    X[col] = X[col].astype('category')  # or use map may be if we get dict\n",
    "    X[col] = X[col].cat.codes\n",
    "\n",
    "from sklearn.preprocessing import StandardScaler\n",
    "scaler = StandardScaler().fit(X)\n",
    "rescaledX = scaler.transform(X)\n",
    "rescaledX_df = pd.DataFrame(rescaledX)\n",
    "rescaledX_df.columns = predictors\n",
    "rescaledX_df.describe().round(2)"
   ]
  },
  {
   "cell_type": "markdown",
   "metadata": {},
   "source": [
    "## Train test split and RandomForestClassifier\n",
    "- Training accuracy is high and testing accuary is low which shows model is over fitted"
   ]
  },
  {
   "cell_type": "code",
   "execution_count": 5,
   "metadata": {},
   "outputs": [
    {
     "name": "stdout",
     "output_type": "stream",
     "text": [
      "X_train: (34633, 19) \n",
      "y_train: (34633,) \n",
      "X_test: (14844, 19) \n",
      "y_test: (14844,)\n",
      "Postive class in train data is 24.1% & Postive class in test data is 23.3%\n",
      "Testing accuracy\n",
      "              precision    recall  f1-score   support\n",
      "\n",
      "           0       0.79      0.96      0.87     11388\n",
      "           1       0.54      0.15      0.24      3456\n",
      "\n",
      "    accuracy                           0.77     14844\n",
      "   macro avg       0.66      0.56      0.55     14844\n",
      "weighted avg       0.73      0.77      0.72     14844\n",
      "\n",
      "Traing accuracy\n",
      "              precision    recall  f1-score   support\n",
      "\n",
      "           0       0.93      1.00      0.96     26296\n",
      "           1       1.00      0.75      0.86      8337\n",
      "\n",
      "    accuracy                           0.94     34633\n",
      "   macro avg       0.96      0.88      0.91     34633\n",
      "weighted avg       0.94      0.94      0.94     34633\n",
      "\n"
     ]
    }
   ],
   "source": [
    "X_train, X_test, y_train, y_test = train_test_split(X, Y, test_size=0.3, random_state=1)\n",
    "print(f\"X_train: {X_train.shape} \\ny_train: {y_train.shape} \\nX_test: {X_test.shape} \\ny_test: {y_test.shape}\")\n",
    "print(f\"Postive class in train data is {round(100*sum(y_train)/len(y_train),1)}% & Postive class in test data is {round(100*sum(y_test)/len(y_test),1)}%\")\n",
    "\n",
    "## RandomForestClassifier\n",
    "from sklearn.ensemble import RandomForestClassifier\n",
    "random_forest = RandomForestClassifier(criterion = \"gini\", \n",
    "                                       min_samples_leaf = 1, \n",
    "                                       min_samples_split = 10,   \n",
    "                                       n_estimators=100, \n",
    "                                       oob_score=True, \n",
    "                                       random_state=1, \n",
    "                                       n_jobs=-1)\n",
    "random_forest.fit(X_train, y_train)\n",
    "print('Testing accuracy')\n",
    "print(classification_report(y_test, random_forest.predict(X_test)))\n",
    "print('Traing accuracy')\n",
    "print(classification_report(y_train, random_forest.predict(X_train)))"
   ]
  },
  {
   "cell_type": "markdown",
   "metadata": {},
   "source": [
    "# Light Gradient Boosting\n",
    "- ensemble method <https://lightgbm.readthedocs.io/en/latest/pythonapi/lightgbm.LGBMClassifier.html>\n",
    "- usually outperform random forest clasifier (ensemble)"
   ]
  },
  {
   "cell_type": "code",
   "execution_count": 6,
   "metadata": {},
   "outputs": [
    {
     "name": "stdout",
     "output_type": "stream",
     "text": [
      "X_train: (34633, 19) \n",
      "y_train: (34633,) \n",
      "X_test: (14844, 19) \n",
      "y_test: (14844,)\n",
      "Postive class in train data is 24.1% & Postive class in test data is 23.3%\n",
      "Testing accuracy\n",
      "              precision    recall  f1-score   support\n",
      "\n",
      "           0       0.88      0.65      0.75     11388\n",
      "           1       0.38      0.71      0.50      3456\n",
      "\n",
      "    accuracy                           0.67     14844\n",
      "   macro avg       0.63      0.68      0.63     14844\n",
      "weighted avg       0.77      0.67      0.69     14844\n",
      "\n",
      "Traing accuracy\n",
      "              precision    recall  f1-score   support\n",
      "\n",
      "           0       0.91      0.68      0.78     26296\n",
      "           1       0.44      0.79      0.57      8337\n",
      "\n",
      "    accuracy                           0.71     34633\n",
      "   macro avg       0.68      0.74      0.68     34633\n",
      "weighted avg       0.80      0.71      0.73     34633\n",
      "\n"
     ]
    }
   ],
   "source": [
    "X_train, X_test, y_train, y_test = train_test_split(X, Y, test_size=0.3, random_state=1)\n",
    "print(f\"X_train: {X_train.shape} \\ny_train: {y_train.shape} \\nX_test: {X_test.shape} \\ny_test: {y_test.shape}\")\n",
    "print(f\"Postive class in train data is {round(100*sum(y_train)/len(y_train),1)}% & Postive class in test data is {round(100*sum(y_test)/len(y_test),1)}%\")\n",
    "\n",
    "from lightgbm import LGBMClassifier\n",
    "model = LGBMClassifier(is_unbalance=True)\n",
    "model.fit(X_train, y_train)\n",
    "print('Testing accuracy')\n",
    "print(classification_report(y_test, model.predict(X_test)))\n",
    "print('Traing accuracy')\n",
    "print(classification_report(y_train, model.predict(X_train)))\n"
   ]
  },
  {
   "cell_type": "code",
   "execution_count": null,
   "metadata": {},
   "outputs": [],
   "source": []
  },
  {
   "cell_type": "markdown",
   "metadata": {},
   "source": [
    "## Train test split and logistic Regression model with class weight\n",
    "- For general model building steps are :\n",
    "- model instantiate `logr = LogisticRegression(solver='lbfgs', class_weight=weights)` with some parameters\n",
    "- Model fit         `logr.fit(X_train, y_train)`\n",
    "- Model predict     `log.predict(X_test)`\n",
    "- after prediction we can get different metrics including \n",
    "  1. `classification_report` shows precesion, recall and f1_score by each class and their simple and weighted average\n",
    "  2. `f1_score`, `recall_score`, `precision_score` they all have average parameter\n",
    "  3. `accuracy_score`, `roc_auc` computes accuracy and roc_auc \n",
    "- average: macro/micro/weighted f1_score can be very skew , so better to look for each class and decide what is important"
   ]
  },
  {
   "cell_type": "code",
   "execution_count": 7,
   "metadata": {},
   "outputs": [
    {
     "name": "stdout",
     "output_type": "stream",
     "text": [
      "X_train: (34633, 19) \n",
      "y_train: (34633,) \n",
      "X_test: (14844, 19) \n",
      "y_test: (14844,)\n",
      "Postive class in train data is 24.1% & Postive class in test data is 23.3%\n",
      "\n",
      "              precision    recall  f1-score   support\n",
      "\n",
      "           0       0.89      0.56      0.69     11388\n",
      "           1       0.35      0.76      0.47      3456\n",
      "\n",
      "    accuracy                           0.61     14844\n",
      "   macro avg       0.62      0.66      0.58     14844\n",
      "weighted avg       0.76      0.61      0.64     14844\n",
      "\n",
      "Accuracy : 0.61\n",
      "ROC-AUC : 0.66\n",
      "F-1 Score : 0.47\n",
      "Recall Score : 0.76\n",
      "Precesion Score : 0.35\n",
      "\n",
      "Different type of F1 score based on average parameter value\n",
      "0.47470817120622566\n",
      "[0.68852283 0.47470817]\n",
      "0.6089329021827001\n",
      "0.581615501066975\n",
      "0.6387422149214256\n"
     ]
    }
   ],
   "source": [
    "X_train, X_test, y_train, y_test = train_test_split(rescaledX_df, Y, test_size=0.3, random_state=1)\n",
    "print(f\"X_train: {X_train.shape} \\ny_train: {y_train.shape} \\nX_test: {X_test.shape} \\ny_test: {y_test.shape}\")\n",
    "print(f\"Postive class in train data is {round(100*sum(y_train)/len(y_train),1)}% & Postive class in test data is {round(100*sum(y_test)/len(y_test),1)}%\\n\")\n",
    "\n",
    "from sklearn.linear_model import LogisticRegression\n",
    "from sklearn.metrics import classification_report, accuracy_score, roc_auc_score, f1_score, recall_score, precision_score\n",
    "\n",
    "weights = {0:1, 1:4}\n",
    "logr = LogisticRegression(solver='lbfgs', class_weight=weights)\n",
    "logr.fit(X_train, y_train)\n",
    "y_pred = logr.predict(X_test)\n",
    "print(classification_report(y_test, y_pred))\n",
    "\n",
    "print('Accuracy :', accuracy_score(y_test, y_pred).round(2))\n",
    "print('ROC-AUC :', roc_auc_score(y_test, y_pred).round(2))\n",
    "print('F-1 Score :', f1_score(y_test, y_pred).round(2))\n",
    "print('Recall Score :', recall_score(y_test, y_pred).round(2))\n",
    "print('Precesion Score :', precision_score(y_test, y_pred).round(2))\n",
    "\n",
    "print(\"\\nDifferent type of F1 score based on average parameter value\")\n",
    "# f1, recall and precesion score has a parameter average which control results,  \n",
    "print(f1_score(y_test, y_pred))                     # return F1 score for positive class only\n",
    "print(f1_score(y_test, y_pred, average=None))       # return F1 score for each class    \n",
    "print(f1_score(y_test, y_pred, average='micro'))    # average F1 score for all data irrespective of class\n",
    "print(f1_score(y_test, y_pred, average='macro'))    # F1 score for each class then simple average that score\n",
    "print(f1_score(y_test, y_pred, average='weighted')) # F1 score for each class then weighted average that score\n",
    "#print(f1_score(originalclass, predictedclass, average='samples'))  # only for multiclass classification\n"
   ]
  },
  {
   "cell_type": "markdown",
   "metadata": {},
   "source": [
    "# cross_val_score \n",
    "- `cross_val_score` takes model instance all Featire-data and labels and does kfold cross validation\n",
    "- `cross_val_score(logr, df, Y, scoring='accuracy', cv=10)` does traing 10 times and report metric for each run\n",
    "- `cv=10` means data will be divided into 10 folds and we will use different fold for each training \n",
    "- or we can use `RepeatedStratifiedKFold` to do kfolding multiple times\n",
    "- `scoring='accuracy'` means for each run output metric will be accuracy \n",
    "- to get full list of scoring metric use `get_scorer_names()` here we have f1, f1_macro, f1_micro and f1_weighted\n",
    "- and we can also use custom function for scoring"
   ]
  },
  {
   "cell_type": "code",
   "execution_count": 8,
   "metadata": {},
   "outputs": [
    {
     "name": "stdout",
     "output_type": "stream",
     "text": [
      "[0.592 0.614 0.656 0.668 0.668 0.6   0.535 0.561 0.624 0.591]\n",
      "['f1', 'f1_macro', 'f1_micro', 'f1_samples'] \n",
      "\n",
      "{'roc_auc': 0.715, 'f1': 0.477, 'f1_macro': 0.583, 'precision': 0.353, 'recall': 0.742, 'accuracy': 0.611} \n",
      "\n",
      "              precision    recall  f1-score   support\n",
      "\n",
      "           0       0.88      0.57      0.69     18842\n",
      "           1       0.35      0.75      0.48      5897\n",
      "\n",
      "    accuracy                           0.61     24739\n",
      "   macro avg       0.62      0.66      0.59     24739\n",
      "weighted avg       0.75      0.61      0.64     24739\n",
      "\n",
      "              precision    recall  f1-score   support\n",
      "\n",
      "           0       0.87      0.57      0.69     18842\n",
      "           1       0.35      0.74      0.47      5896\n",
      "\n",
      "    accuracy                           0.61     24738\n",
      "   macro avg       0.61      0.65      0.58     24738\n",
      "weighted avg       0.75      0.61      0.64     24738\n",
      "\n",
      "              precision    recall  f1-score   support\n",
      "\n",
      "           0       0.88      0.57      0.69     18842\n",
      "           1       0.35      0.75      0.48      5897\n",
      "\n",
      "    accuracy                           0.61     24739\n",
      "   macro avg       0.61      0.66      0.58     24739\n",
      "weighted avg       0.75      0.61      0.64     24739\n",
      "\n",
      "              precision    recall  f1-score   support\n",
      "\n",
      "           0       0.87      0.57      0.69     18842\n",
      "           1       0.35      0.74      0.48      5896\n",
      "\n",
      "    accuracy                           0.61     24738\n",
      "   macro avg       0.61      0.66      0.58     24738\n",
      "weighted avg       0.75      0.61      0.64     24738\n",
      "\n",
      "Mean Accuracy from Kfold : 0.611\n",
      "\n",
      " Over all classification report\n",
      "              precision    recall  f1-score   support\n",
      "\n",
      "           0       0.88      0.57      0.69     75368\n",
      "           1       0.35      0.74      0.48     23586\n",
      "\n",
      "    accuracy                           0.61     98954\n",
      "   macro avg       0.61      0.66      0.58     98954\n",
      "weighted avg       0.75      0.61      0.64     98954\n",
      "\n"
     ]
    }
   ],
   "source": [
    "from sklearn.metrics import get_scorer_names, classification_report, make_scorer\n",
    "from sklearn.model_selection import cross_val_score, cross_validate \n",
    "from sklearn.model_selection import RepeatedStratifiedKFold\n",
    "\n",
    "logr = LogisticRegression(solver='lbfgs', class_weight={0:1, 1:4})\n",
    "print(cross_val_score(logr, rescaledX_df, Y, scoring='accuracy', cv=10).round(3))\n",
    "print(get_scorer_names()[7:11], '\\n')\n",
    "\n",
    "score_est = {}\n",
    "for score in [\"roc_auc\", \"f1\", \"f1_macro\", \"precision\", \"recall\", \"accuracy\"]:\n",
    "    cvs = cross_val_score(logr, rescaledX_df, Y, scoring=score, cv=10).mean().round(3)\n",
    "    #print(score + \" : \"+ str(cvs))\n",
    "    score_est[score] = cvs\n",
    "print(score_est, '\\n')\n",
    "\n",
    "originalclass = []   # to store true label for each iteration \n",
    "predictedclass = []  # to store predicted label for each iteration\n",
    "# in cross_val_score this function will be called each for each training\n",
    "def custom_scoring_function(y_true, y_pred):  \n",
    "    print(classification_report(y_true, y_pred)) # print classification report for each iteration\n",
    "    originalclass.extend(y_true) \n",
    "    predictedclass.extend(y_pred)\n",
    "    return accuracy_score(y_true, y_pred) # return accuracy score , here we can pass f1_score as well with average parameter\n",
    "\n",
    "cv = RepeatedStratifiedKFold(n_splits=2, n_repeats=2, random_state=1)\n",
    "nested_score = cross_val_score(logr, X=rescaledX_df, y=Y, cv=cv,\\\n",
    "               scoring=make_scorer(custom_scoring_function))\n",
    "\n",
    "print(\"Mean Accuracy from Kfold : %.3f\" %np.mean(nested_score))\n",
    "print('\\n Over all classification report')\n",
    "print(classification_report(originalclass, predictedclass))"
   ]
  },
  {
   "cell_type": "markdown",
   "metadata": {},
   "source": [
    "## cross_validate\n",
    "- unlike `cross_val_score` , `cross_validate` can teake list of scoring methods available in `get_scorer_names()`\n",
    "- `cross_validate` returns dictionary for each scoring method with score names as keys\n",
    "- advantage of `cross_val_score` is we can pass custom function for scoring, the logic of that is for each training iteration we get `y_true` , `y_pred` and that was passed as parameter to custom score function"
   ]
  },
  {
   "cell_type": "code",
   "execution_count": 9,
   "metadata": {},
   "outputs": [
    {
     "data": {
      "text/plain": [
       "dict_keys(['fit_time', 'score_time', 'test_accuracy', 'test_f1'])"
      ]
     },
     "execution_count": 9,
     "metadata": {},
     "output_type": "execute_result"
    }
   ],
   "source": [
    "dd = cross_validate(logr, rescaledX_df, Y, scoring=['accuracy', 'f1'], cv=10)\n",
    "dd.keys()"
   ]
  },
  {
   "cell_type": "markdown",
   "metadata": {},
   "source": [
    "# Hyper parameter tuning\n",
    "- `GridSearchCV` takes model, parameter grid nested dictionay , cv and scoring method\n",
    "- and then we do `grid_result=grid.fit(X,Y)` on entire dataset\n",
    "- `grid_result.best_score_`, `grid_result.best_params_` returns best score & parameter \n",
    "- for multi score <https://scikit-learn.org/stable/auto_examples/model_selection/plot_multi_metric_evaluation.html>"
   ]
  },
  {
   "cell_type": "code",
   "execution_count": 10,
   "metadata": {},
   "outputs": [
    {
     "name": "stdout",
     "output_type": "stream",
     "text": [
      "Best: 0.476955 using {'class_weight': {0: 1, 1: 4}}\n",
      "0.202190 (0.012105) with: {'class_weight': {0: 1, 1: 1}}\n",
      "0.411651 (0.012239) with: {'class_weight': {0: 1, 1: 2}}\n",
      "0.472999 (0.007181) with: {'class_weight': {0: 1, 1: 3}}\n",
      "0.472999 (0.007181) with: {'class_weight': {0: 1, 1: 3}}\n",
      "0.476955 (0.006974) with: {'class_weight': {0: 1, 1: 4}}\n",
      "0.468023 (0.006203) with: {'class_weight': {0: 1, 1: 5}}\n",
      "0.452869 (0.005224) with: {'class_weight': {0: 1, 1: 6}}\n",
      "              precision    recall  f1-score   support\n",
      "\n",
      "           0       0.89      0.56      0.69     11388\n",
      "           1       0.35      0.76      0.47      3456\n",
      "\n",
      "    accuracy                           0.61     14844\n",
      "   macro avg       0.62      0.66      0.58     14844\n",
      "weighted avg       0.76      0.61      0.64     14844\n",
      "\n"
     ]
    }
   ],
   "source": [
    "\n",
    "from sklearn.model_selection import GridSearchCV, RandomizedSearchCV\n",
    "# define model\n",
    "model = LogisticRegression(solver='lbfgs')\n",
    "# define grid\n",
    "balance = [{0:1,1:1}, {0:1,1:2}, {0:1,1:3}, {0:1,1:3}, {0:1,1:4}, {0:1,1:5},{0:1,1:6}]\n",
    "param_grid = dict(class_weight=balance)\n",
    "# define evaluation procedure\n",
    "cv = RepeatedStratifiedKFold(n_splits=10, n_repeats=3, random_state=1)\n",
    "# define grid search\n",
    "grid = GridSearchCV(estimator=model, param_grid=param_grid, n_jobs=-1, cv=cv, scoring='f1')\n",
    "# execute the grid search\n",
    "grid_result = grid.fit(rescaledX_df, Y)\n",
    "# report the best configuration\n",
    "print(\"Best: %f using %s\" % (grid_result.best_score_, grid_result.best_params_))\n",
    "# report all configurations\n",
    "means = grid_result.cv_results_['mean_test_score']\n",
    "stds = grid_result.cv_results_['std_test_score']\n",
    "params = grid_result.cv_results_['params']\n",
    "for mean, stdev, param in zip(means, stds, params):\n",
    "    print(\"%f (%f) with: %r\" % (mean, stdev, param))\n",
    "\n",
    "logr = LogisticRegression(solver='lbfgs', class_weight=grid_result.best_params_['class_weight'])\n",
    "logr.fit(X_train, y_train)\n",
    "y_pred = logr.predict(X_test)\n",
    "print(classification_report(y_test, y_pred))"
   ]
  },
  {
   "cell_type": "markdown",
   "metadata": {},
   "source": [
    "# Decesion Tree Model"
   ]
  },
  {
   "cell_type": "code",
   "execution_count": 11,
   "metadata": {},
   "outputs": [
    {
     "name": "stdout",
     "output_type": "stream",
     "text": [
      "Accuracy: 0.7668418216114254\n",
      "Recall/True Positive Rate: 0.14033564814814814\n",
      "Precision: 0.49743589743589745\n",
      "              precision    recall  f1-score   support\n",
      "\n",
      "           0       0.79      0.96      0.86     11388\n",
      "           1       0.50      0.14      0.22      3456\n",
      "\n",
      "    accuracy                           0.77     14844\n",
      "   macro avg       0.64      0.55      0.54     14844\n",
      "weighted avg       0.72      0.77      0.71     14844\n",
      "\n"
     ]
    },
    {
     "data": {
      "application/vnd.plotly.v1+json": {
       "config": {
        "plotlyServerURL": "https://plot.ly"
       },
       "data": [
        {
         "alignmentgroup": "True",
         "cliponaxis": false,
         "hovertemplate": "importance=%{text}<br>feature_name=%{y}<extra></extra>",
         "legendgroup": "",
         "marker": {
          "color": "#636efa",
          "pattern": {
           "shape": ""
          }
         },
         "name": "",
         "offsetgroup": "",
         "orientation": "h",
         "showlegend": false,
         "text": [
          0,
          0,
          0,
          0,
          0.01,
          0.01,
          0.01,
          0.01,
          0.01,
          0.01,
          0.02,
          0.03,
          0.03,
          0.04,
          0.06,
          0.08,
          0.15,
          0.2,
          0.35
         ],
         "textangle": 0,
         "textfont": {
          "size": 12
         },
         "textposition": "inside",
         "type": "bar",
         "x": [
          0,
          0,
          0,
          0,
          0.01,
          0.01,
          0.01,
          0.01,
          0.01,
          0.01,
          0.02,
          0.03,
          0.03,
          0.04,
          0.06,
          0.08,
          0.15,
          0.2,
          0.35
         ],
         "xaxis": "x",
         "y": [
          "resume_flag",
          "english_communication",
          "user_os_type",
          "is_quiz_answer_correct",
          "num_self_expert_skills",
          "num_self_intermediate_skills",
          "time_to_upload_resume",
          "years_of_remote_experience",
          "quiz_answer",
          "num_self_advanced_skills",
          "source_attribution_type",
          "sn_avg_score",
          "time_to_sn_test",
          "num_chars_resume",
          "is_github",
          "num_self_beginner_skills",
          "role_type",
          "years_of_experience",
          "num_self_skills"
         ],
         "yaxis": "y"
        }
       ],
       "layout": {
        "barmode": "relative",
        "height": 400,
        "legend": {
         "tracegroupgap": 0
        },
        "margin": {
         "t": 60
        },
        "template": {
         "data": {
          "bar": [
           {
            "error_x": {
             "color": "#2a3f5f"
            },
            "error_y": {
             "color": "#2a3f5f"
            },
            "marker": {
             "line": {
              "color": "#E5ECF6",
              "width": 0.5
             },
             "pattern": {
              "fillmode": "overlay",
              "size": 10,
              "solidity": 0.2
             }
            },
            "type": "bar"
           }
          ],
          "barpolar": [
           {
            "marker": {
             "line": {
              "color": "#E5ECF6",
              "width": 0.5
             },
             "pattern": {
              "fillmode": "overlay",
              "size": 10,
              "solidity": 0.2
             }
            },
            "type": "barpolar"
           }
          ],
          "carpet": [
           {
            "aaxis": {
             "endlinecolor": "#2a3f5f",
             "gridcolor": "white",
             "linecolor": "white",
             "minorgridcolor": "white",
             "startlinecolor": "#2a3f5f"
            },
            "baxis": {
             "endlinecolor": "#2a3f5f",
             "gridcolor": "white",
             "linecolor": "white",
             "minorgridcolor": "white",
             "startlinecolor": "#2a3f5f"
            },
            "type": "carpet"
           }
          ],
          "choropleth": [
           {
            "colorbar": {
             "outlinewidth": 0,
             "ticks": ""
            },
            "type": "choropleth"
           }
          ],
          "contour": [
           {
            "colorbar": {
             "outlinewidth": 0,
             "ticks": ""
            },
            "colorscale": [
             [
              0,
              "#0d0887"
             ],
             [
              0.1111111111111111,
              "#46039f"
             ],
             [
              0.2222222222222222,
              "#7201a8"
             ],
             [
              0.3333333333333333,
              "#9c179e"
             ],
             [
              0.4444444444444444,
              "#bd3786"
             ],
             [
              0.5555555555555556,
              "#d8576b"
             ],
             [
              0.6666666666666666,
              "#ed7953"
             ],
             [
              0.7777777777777778,
              "#fb9f3a"
             ],
             [
              0.8888888888888888,
              "#fdca26"
             ],
             [
              1,
              "#f0f921"
             ]
            ],
            "type": "contour"
           }
          ],
          "contourcarpet": [
           {
            "colorbar": {
             "outlinewidth": 0,
             "ticks": ""
            },
            "type": "contourcarpet"
           }
          ],
          "heatmap": [
           {
            "colorbar": {
             "outlinewidth": 0,
             "ticks": ""
            },
            "colorscale": [
             [
              0,
              "#0d0887"
             ],
             [
              0.1111111111111111,
              "#46039f"
             ],
             [
              0.2222222222222222,
              "#7201a8"
             ],
             [
              0.3333333333333333,
              "#9c179e"
             ],
             [
              0.4444444444444444,
              "#bd3786"
             ],
             [
              0.5555555555555556,
              "#d8576b"
             ],
             [
              0.6666666666666666,
              "#ed7953"
             ],
             [
              0.7777777777777778,
              "#fb9f3a"
             ],
             [
              0.8888888888888888,
              "#fdca26"
             ],
             [
              1,
              "#f0f921"
             ]
            ],
            "type": "heatmap"
           }
          ],
          "heatmapgl": [
           {
            "colorbar": {
             "outlinewidth": 0,
             "ticks": ""
            },
            "colorscale": [
             [
              0,
              "#0d0887"
             ],
             [
              0.1111111111111111,
              "#46039f"
             ],
             [
              0.2222222222222222,
              "#7201a8"
             ],
             [
              0.3333333333333333,
              "#9c179e"
             ],
             [
              0.4444444444444444,
              "#bd3786"
             ],
             [
              0.5555555555555556,
              "#d8576b"
             ],
             [
              0.6666666666666666,
              "#ed7953"
             ],
             [
              0.7777777777777778,
              "#fb9f3a"
             ],
             [
              0.8888888888888888,
              "#fdca26"
             ],
             [
              1,
              "#f0f921"
             ]
            ],
            "type": "heatmapgl"
           }
          ],
          "histogram": [
           {
            "marker": {
             "pattern": {
              "fillmode": "overlay",
              "size": 10,
              "solidity": 0.2
             }
            },
            "type": "histogram"
           }
          ],
          "histogram2d": [
           {
            "colorbar": {
             "outlinewidth": 0,
             "ticks": ""
            },
            "colorscale": [
             [
              0,
              "#0d0887"
             ],
             [
              0.1111111111111111,
              "#46039f"
             ],
             [
              0.2222222222222222,
              "#7201a8"
             ],
             [
              0.3333333333333333,
              "#9c179e"
             ],
             [
              0.4444444444444444,
              "#bd3786"
             ],
             [
              0.5555555555555556,
              "#d8576b"
             ],
             [
              0.6666666666666666,
              "#ed7953"
             ],
             [
              0.7777777777777778,
              "#fb9f3a"
             ],
             [
              0.8888888888888888,
              "#fdca26"
             ],
             [
              1,
              "#f0f921"
             ]
            ],
            "type": "histogram2d"
           }
          ],
          "histogram2dcontour": [
           {
            "colorbar": {
             "outlinewidth": 0,
             "ticks": ""
            },
            "colorscale": [
             [
              0,
              "#0d0887"
             ],
             [
              0.1111111111111111,
              "#46039f"
             ],
             [
              0.2222222222222222,
              "#7201a8"
             ],
             [
              0.3333333333333333,
              "#9c179e"
             ],
             [
              0.4444444444444444,
              "#bd3786"
             ],
             [
              0.5555555555555556,
              "#d8576b"
             ],
             [
              0.6666666666666666,
              "#ed7953"
             ],
             [
              0.7777777777777778,
              "#fb9f3a"
             ],
             [
              0.8888888888888888,
              "#fdca26"
             ],
             [
              1,
              "#f0f921"
             ]
            ],
            "type": "histogram2dcontour"
           }
          ],
          "mesh3d": [
           {
            "colorbar": {
             "outlinewidth": 0,
             "ticks": ""
            },
            "type": "mesh3d"
           }
          ],
          "parcoords": [
           {
            "line": {
             "colorbar": {
              "outlinewidth": 0,
              "ticks": ""
             }
            },
            "type": "parcoords"
           }
          ],
          "pie": [
           {
            "automargin": true,
            "type": "pie"
           }
          ],
          "scatter": [
           {
            "fillpattern": {
             "fillmode": "overlay",
             "size": 10,
             "solidity": 0.2
            },
            "type": "scatter"
           }
          ],
          "scatter3d": [
           {
            "line": {
             "colorbar": {
              "outlinewidth": 0,
              "ticks": ""
             }
            },
            "marker": {
             "colorbar": {
              "outlinewidth": 0,
              "ticks": ""
             }
            },
            "type": "scatter3d"
           }
          ],
          "scattercarpet": [
           {
            "marker": {
             "colorbar": {
              "outlinewidth": 0,
              "ticks": ""
             }
            },
            "type": "scattercarpet"
           }
          ],
          "scattergeo": [
           {
            "marker": {
             "colorbar": {
              "outlinewidth": 0,
              "ticks": ""
             }
            },
            "type": "scattergeo"
           }
          ],
          "scattergl": [
           {
            "marker": {
             "colorbar": {
              "outlinewidth": 0,
              "ticks": ""
             }
            },
            "type": "scattergl"
           }
          ],
          "scattermapbox": [
           {
            "marker": {
             "colorbar": {
              "outlinewidth": 0,
              "ticks": ""
             }
            },
            "type": "scattermapbox"
           }
          ],
          "scatterpolar": [
           {
            "marker": {
             "colorbar": {
              "outlinewidth": 0,
              "ticks": ""
             }
            },
            "type": "scatterpolar"
           }
          ],
          "scatterpolargl": [
           {
            "marker": {
             "colorbar": {
              "outlinewidth": 0,
              "ticks": ""
             }
            },
            "type": "scatterpolargl"
           }
          ],
          "scatterternary": [
           {
            "marker": {
             "colorbar": {
              "outlinewidth": 0,
              "ticks": ""
             }
            },
            "type": "scatterternary"
           }
          ],
          "surface": [
           {
            "colorbar": {
             "outlinewidth": 0,
             "ticks": ""
            },
            "colorscale": [
             [
              0,
              "#0d0887"
             ],
             [
              0.1111111111111111,
              "#46039f"
             ],
             [
              0.2222222222222222,
              "#7201a8"
             ],
             [
              0.3333333333333333,
              "#9c179e"
             ],
             [
              0.4444444444444444,
              "#bd3786"
             ],
             [
              0.5555555555555556,
              "#d8576b"
             ],
             [
              0.6666666666666666,
              "#ed7953"
             ],
             [
              0.7777777777777778,
              "#fb9f3a"
             ],
             [
              0.8888888888888888,
              "#fdca26"
             ],
             [
              1,
              "#f0f921"
             ]
            ],
            "type": "surface"
           }
          ],
          "table": [
           {
            "cells": {
             "fill": {
              "color": "#EBF0F8"
             },
             "line": {
              "color": "white"
             }
            },
            "header": {
             "fill": {
              "color": "#C8D4E3"
             },
             "line": {
              "color": "white"
             }
            },
            "type": "table"
           }
          ]
         },
         "layout": {
          "annotationdefaults": {
           "arrowcolor": "#2a3f5f",
           "arrowhead": 0,
           "arrowwidth": 1
          },
          "autotypenumbers": "strict",
          "coloraxis": {
           "colorbar": {
            "outlinewidth": 0,
            "ticks": ""
           }
          },
          "colorscale": {
           "diverging": [
            [
             0,
             "#8e0152"
            ],
            [
             0.1,
             "#c51b7d"
            ],
            [
             0.2,
             "#de77ae"
            ],
            [
             0.3,
             "#f1b6da"
            ],
            [
             0.4,
             "#fde0ef"
            ],
            [
             0.5,
             "#f7f7f7"
            ],
            [
             0.6,
             "#e6f5d0"
            ],
            [
             0.7,
             "#b8e186"
            ],
            [
             0.8,
             "#7fbc41"
            ],
            [
             0.9,
             "#4d9221"
            ],
            [
             1,
             "#276419"
            ]
           ],
           "sequential": [
            [
             0,
             "#0d0887"
            ],
            [
             0.1111111111111111,
             "#46039f"
            ],
            [
             0.2222222222222222,
             "#7201a8"
            ],
            [
             0.3333333333333333,
             "#9c179e"
            ],
            [
             0.4444444444444444,
             "#bd3786"
            ],
            [
             0.5555555555555556,
             "#d8576b"
            ],
            [
             0.6666666666666666,
             "#ed7953"
            ],
            [
             0.7777777777777778,
             "#fb9f3a"
            ],
            [
             0.8888888888888888,
             "#fdca26"
            ],
            [
             1,
             "#f0f921"
            ]
           ],
           "sequentialminus": [
            [
             0,
             "#0d0887"
            ],
            [
             0.1111111111111111,
             "#46039f"
            ],
            [
             0.2222222222222222,
             "#7201a8"
            ],
            [
             0.3333333333333333,
             "#9c179e"
            ],
            [
             0.4444444444444444,
             "#bd3786"
            ],
            [
             0.5555555555555556,
             "#d8576b"
            ],
            [
             0.6666666666666666,
             "#ed7953"
            ],
            [
             0.7777777777777778,
             "#fb9f3a"
            ],
            [
             0.8888888888888888,
             "#fdca26"
            ],
            [
             1,
             "#f0f921"
            ]
           ]
          },
          "colorway": [
           "#636efa",
           "#EF553B",
           "#00cc96",
           "#ab63fa",
           "#FFA15A",
           "#19d3f3",
           "#FF6692",
           "#B6E880",
           "#FF97FF",
           "#FECB52"
          ],
          "font": {
           "color": "#2a3f5f"
          },
          "geo": {
           "bgcolor": "white",
           "lakecolor": "white",
           "landcolor": "#E5ECF6",
           "showlakes": true,
           "showland": true,
           "subunitcolor": "white"
          },
          "hoverlabel": {
           "align": "left"
          },
          "hovermode": "closest",
          "mapbox": {
           "style": "light"
          },
          "paper_bgcolor": "white",
          "plot_bgcolor": "#E5ECF6",
          "polar": {
           "angularaxis": {
            "gridcolor": "white",
            "linecolor": "white",
            "ticks": ""
           },
           "bgcolor": "#E5ECF6",
           "radialaxis": {
            "gridcolor": "white",
            "linecolor": "white",
            "ticks": ""
           }
          },
          "scene": {
           "xaxis": {
            "backgroundcolor": "#E5ECF6",
            "gridcolor": "white",
            "gridwidth": 2,
            "linecolor": "white",
            "showbackground": true,
            "ticks": "",
            "zerolinecolor": "white"
           },
           "yaxis": {
            "backgroundcolor": "#E5ECF6",
            "gridcolor": "white",
            "gridwidth": 2,
            "linecolor": "white",
            "showbackground": true,
            "ticks": "",
            "zerolinecolor": "white"
           },
           "zaxis": {
            "backgroundcolor": "#E5ECF6",
            "gridcolor": "white",
            "gridwidth": 2,
            "linecolor": "white",
            "showbackground": true,
            "ticks": "",
            "zerolinecolor": "white"
           }
          },
          "shapedefaults": {
           "line": {
            "color": "#2a3f5f"
           }
          },
          "ternary": {
           "aaxis": {
            "gridcolor": "white",
            "linecolor": "white",
            "ticks": ""
           },
           "baxis": {
            "gridcolor": "white",
            "linecolor": "white",
            "ticks": ""
           },
           "bgcolor": "#E5ECF6",
           "caxis": {
            "gridcolor": "white",
            "linecolor": "white",
            "ticks": ""
           }
          },
          "title": {
           "x": 0.05
          },
          "xaxis": {
           "automargin": true,
           "gridcolor": "white",
           "linecolor": "white",
           "ticks": "",
           "title": {
            "standoff": 15
           },
           "zerolinecolor": "white",
           "zerolinewidth": 2
          },
          "yaxis": {
           "automargin": true,
           "gridcolor": "white",
           "linecolor": "white",
           "ticks": "",
           "title": {
            "standoff": 15
           },
           "zerolinecolor": "white",
           "zerolinewidth": 2
          }
         }
        },
        "xaxis": {
         "anchor": "y",
         "domain": [
          0,
          1
         ],
         "title": {
          "text": "importance"
         }
        },
        "yaxis": {
         "anchor": "x",
         "domain": [
          0,
          1
         ],
         "title": {
          "text": "feature_name"
         }
        }
       }
      }
     },
     "metadata": {},
     "output_type": "display_data"
    }
   ],
   "source": [
    "from cgitb import text\n",
    "from sklearn.tree import DecisionTreeRegressor\n",
    "from sklearn.tree import DecisionTreeClassifier\n",
    "from sklearn import tree\n",
    "import matplotlib.pyplot as plt\n",
    "from sklearn import metrics\n",
    "\n",
    "dtc = DecisionTreeClassifier(criterion = \"gini\", random_state = 100,max_depth=8, min_samples_leaf=5)\n",
    "dtc.fit(X_train, y_train)\n",
    "y_pred = dtc.predict(X_test)\n",
    "print(\"Accuracy:\",metrics.accuracy_score(y_test, y_pred))\n",
    "print(\"Recall/True Positive Rate:\",metrics.recall_score(y_test, y_pred))\n",
    "print(\"Precision:\",metrics.precision_score(y_test, y_pred))\n",
    "print(classification_report(y_test, y_pred))\n",
    "\n",
    "#fig = plt.figure(figsize=(25,20))\n",
    "#_ = tree.plot_tree(dtc, feature_names=X_train.columns, filled=True)\n",
    "\n",
    "importances = dtc.feature_importances_\n",
    "indices = np.argsort(importances)\n",
    "y=importances[indices]\n",
    "x = np.array(X_train.columns)[indices]\n",
    "df = pd.DataFrame({'feature_name':x, 'importance':np.round(y,2)})\n",
    "fig = px.bar(df.sort_values(by='importance', ascending=True), y='feature_name', x='importance',\n",
    "             text='importance', height=400)\n",
    "fig.update_traces(textfont_size=12, textangle=0, textposition=\"inside\", cliponaxis=False)\n",
    "fig.show()\n",
    "\n",
    "\n",
    "# partial dependency\n",
    "# within first week use that data, \n",
    "# \n",
    "# drop based on variance for contin\n",
    "# and for bin if smaller class is less than 2%\n",
    "# \n",
    "# on   \n"
   ]
  },
  {
   "cell_type": "markdown",
   "metadata": {},
   "source": [
    "## RandomizedSearchCV for decesion tree\n",
    "- RandomizedSearchCV for hyper paramter tuning for DecisionTreeClassifier\n",
    "- "
   ]
  },
  {
   "cell_type": "code",
   "execution_count": 12,
   "metadata": {},
   "outputs": [
    {
     "name": "stdout",
     "output_type": "stream",
     "text": [
      "Best: 0.763021 using {'min_samples_split': 1600, 'min_samples_leaf': 200, 'max_depth': 5}\n",
      "0.759686 (0.002738) with: {'min_samples_split': 1000, 'min_samples_leaf': 300, 'max_depth': 4}\n",
      "0.760960 (0.001349) with: {'min_samples_split': 1200, 'min_samples_leaf': 700, 'max_depth': 2}\n",
      "0.761647 (0.000043) with: {'min_samples_split': 1800, 'min_samples_leaf': 400, 'max_depth': 2}\n",
      "0.761162 (0.004038) with: {'min_samples_split': 1800, 'min_samples_leaf': 900, 'max_depth': 4}\n",
      "0.763021 (0.002577) with: {'min_samples_split': 1600, 'min_samples_leaf': 200, 'max_depth': 5}\n",
      "0.759686 (0.002738) with: {'min_samples_split': 1800, 'min_samples_leaf': 300, 'max_depth': 4}\n",
      "0.761647 (0.000043) with: {'min_samples_split': 1600, 'min_samples_leaf': 300, 'max_depth': 3}\n",
      "0.760960 (0.001349) with: {'min_samples_split': 1400, 'min_samples_leaf': 700, 'max_depth': 2}\n",
      "0.759686 (0.002738) with: {'min_samples_split': 1600, 'min_samples_leaf': 200, 'max_depth': 4}\n",
      "0.763021 (0.002577) with: {'min_samples_split': 1000, 'min_samples_leaf': 400, 'max_depth': 5}\n",
      "Mean Accuracy from Kfold : 0.639\n",
      "\n",
      " Over all classification report\n",
      "              precision    recall  f1-score   support\n",
      "\n",
      "           0       0.86      0.63      0.73     75368\n",
      "           1       0.36      0.68      0.47     23586\n",
      "\n",
      "    accuracy                           0.64     98954\n",
      "   macro avg       0.61      0.65      0.60     98954\n",
      "weighted avg       0.74      0.64      0.67     98954\n",
      "\n"
     ]
    }
   ],
   "source": [
    "# define model\n",
    "dtc = DecisionTreeClassifier(criterion = \"gini\", random_state = 100)\n",
    "\n",
    "distributions={\"max_depth\":range(2,6), \"min_samples_split\": range(1000, 2000, 200),\n",
    "           \"min_samples_leaf\":range(200,1000,100)}\n",
    "grid = RandomizedSearchCV(dtc, distributions)\n",
    "# execute the grid search\n",
    "grid_result = grid.fit(rescaledX_df, Y)\n",
    "# report the best configuration\n",
    "print(\"Best: %f using %s\" % (grid_result.best_score_, grid_result.best_params_))\n",
    "# report all configurations\n",
    "means = grid_result.cv_results_['mean_test_score']\n",
    "stds = grid_result.cv_results_['std_test_score']\n",
    "params = grid_result.cv_results_['params']\n",
    "for mean, stdev, param in zip(means, stds, params):\n",
    "    print(\"%f (%f) with: %r\" % (mean, stdev, param))\n",
    "\n",
    "from sklearn.metrics import classification_report, accuracy_score, make_scorer\n",
    "originalclass = []   # to store true label for each iteration \n",
    "predictedclass = []  # to store predicted label for each iteration\n",
    "def classification_report_with_accuracy_score(y_true, y_pred):  # in cross validation loop this function will be called each time\n",
    "    #print(classification_report(y_true, y_pred)) # print classification report\n",
    "    originalclass.extend(y_true)\n",
    "    predictedclass.extend(y_pred)\n",
    "    return accuracy_score(y_true, y_pred) # return accuracy score\n",
    "    \n",
    "cv = RepeatedStratifiedKFold(n_splits=2, n_repeats=2, random_state=1)\n",
    "dtc = DecisionTreeClassifier(criterion = \"gini\", random_state = 100,\n",
    "                             min_samples_split=grid_result.best_params_['min_samples_split'],\n",
    "                             max_depth=grid_result.best_params_['max_depth'],\n",
    "                             min_samples_leaf=grid_result.best_params_['min_samples_leaf'],\n",
    "                             class_weight = {0:1,1:3})\n",
    "\n",
    "\n",
    "nested_score = cross_val_score(dtc, X=rescaledX_df, y=Y, cv=cv,\\\n",
    "               scoring=make_scorer(classification_report_with_accuracy_score))\n",
    "\n",
    "print(\"Mean Accuracy from Kfold : %.3f\" % np.mean(nested_score))\n",
    "print('\\n Over all classification report')\n",
    "print(classification_report(originalclass, predictedclass)) \n"
   ]
  },
  {
   "cell_type": "markdown",
   "metadata": {},
   "source": [
    "# LGB model Hyper Parameter Tuning and ROC "
   ]
  },
  {
   "cell_type": "code",
   "execution_count": 13,
   "metadata": {},
   "outputs": [
    {
     "name": "stdout",
     "output_type": "stream",
     "text": [
      "Best: 0.501369 using {'max_depth': 4, 'min_split_gain': 0.06}\n",
      "Mean Accuracy from Kfold : 0.658\n",
      "\n",
      " Over all classification report\n",
      "              precision    recall  f1-score   support\n",
      "\n",
      "           0       0.88      0.64      0.74     37684\n",
      "           1       0.38      0.72      0.50     11793\n",
      "\n",
      "    accuracy                           0.66     49477\n",
      "   macro avg       0.63      0.68      0.62     49477\n",
      "weighted avg       0.76      0.66      0.68     49477\n",
      "\n"
     ]
    }
   ],
   "source": [
    "from lightgbm import LGBMClassifier\n",
    "from sklearn.model_selection import GridSearchCV, RandomizedSearchCV\n",
    "\n",
    "# define model\n",
    "lgb_model = LGBMClassifier(is_unbalance=True, objective='binary')\n",
    "# define grid\n",
    "param_grid = dict(max_depth=range(2,12,2), min_split_gain=[val/100 for val in list(range(0,10,2))])\n",
    "# define evaluation procedure\n",
    "cv = RepeatedStratifiedKFold(n_splits=2, n_repeats=2, random_state=1)\n",
    "# define grid search\n",
    "grid = GridSearchCV(estimator=lgb_model, param_grid=param_grid, n_jobs=-1, cv=cv, scoring='f1')\n",
    "# execute the grid search\n",
    "grid_result = grid.fit(X, Y)\n",
    "# report the best configuration\n",
    "print(\"Best: %f using %s\" % (grid_result.best_score_, grid_result.best_params_))\n",
    "# report all configurations\n",
    "means = grid_result.cv_results_['mean_test_score']\n",
    "stds = grid_result.cv_results_['std_test_score']\n",
    "params = grid_result.cv_results_['params']\n",
    "#for mean, stdev, param in zip(means, stds, params):\n",
    "    #print(\"%f (%f) with: %r\" % (mean, stdev, param))\n",
    "\n",
    "lgb_model = LGBMClassifier(is_unbalance=True, objective='binary', max_depth=grid_result.best_params_['max_depth'],\n",
    "min_split_gain = grid_result.best_params_['min_split_gain'])\n",
    "\n",
    "originalclass = []   # to store true label for each iteration \n",
    "predictedclass = []  # to store predicted label for each iteration\n",
    "\n",
    "nested_score = cross_val_score(lgb_model, X=X, y=Y, cv=10,\\\n",
    "               scoring=make_scorer(classification_report_with_accuracy_score))\n",
    "\n",
    "print(\"Mean Accuracy from Kfold : %.3f\" % np.mean(nested_score))\n",
    "print('\\n Over all classification report')\n",
    "print(classification_report(originalclass, predictedclass)) \n"
   ]
  },
  {
   "cell_type": "code",
   "execution_count": 14,
   "metadata": {},
   "outputs": [
    {
     "data": {
      "text/html": [
       "<div>\n",
       "<style scoped>\n",
       "    .dataframe tbody tr th:only-of-type {\n",
       "        vertical-align: middle;\n",
       "    }\n",
       "\n",
       "    .dataframe tbody tr th {\n",
       "        vertical-align: top;\n",
       "    }\n",
       "\n",
       "    .dataframe thead th {\n",
       "        text-align: right;\n",
       "    }\n",
       "</style>\n",
       "<table border=\"1\" class=\"dataframe\">\n",
       "  <thead>\n",
       "    <tr style=\"text-align: right;\">\n",
       "      <th></th>\n",
       "      <th>source_attribution_type</th>\n",
       "      <th>user_os_type</th>\n",
       "      <th>quiz_answer</th>\n",
       "      <th>resume_flag</th>\n",
       "      <th>num_chars_resume</th>\n",
       "      <th>years_of_experience</th>\n",
       "      <th>years_of_remote_experience</th>\n",
       "      <th>english_communication</th>\n",
       "      <th>role_type</th>\n",
       "      <th>sn_avg_score</th>\n",
       "      <th>num_self_skills</th>\n",
       "      <th>num_self_beginner_skills</th>\n",
       "      <th>num_self_intermediate_skills</th>\n",
       "      <th>num_self_advanced_skills</th>\n",
       "      <th>num_self_expert_skills</th>\n",
       "      <th>is_github</th>\n",
       "      <th>time_to_upload_resume</th>\n",
       "      <th>time_to_sn_test</th>\n",
       "      <th>is_quiz_answer_correct</th>\n",
       "    </tr>\n",
       "  </thead>\n",
       "  <tbody>\n",
       "    <tr>\n",
       "      <th>0</th>\n",
       "      <td>3</td>\n",
       "      <td>1</td>\n",
       "      <td>0</td>\n",
       "      <td>True</td>\n",
       "      <td>3557.0</td>\n",
       "      <td>10.0</td>\n",
       "      <td>5.0</td>\n",
       "      <td>2</td>\n",
       "      <td>8</td>\n",
       "      <td>4.707500</td>\n",
       "      <td>20.0</td>\n",
       "      <td>2.0</td>\n",
       "      <td>8.0</td>\n",
       "      <td>4.0</td>\n",
       "      <td>6.0</td>\n",
       "      <td>0</td>\n",
       "      <td>0.0</td>\n",
       "      <td>0.0</td>\n",
       "      <td>0</td>\n",
       "    </tr>\n",
       "    <tr>\n",
       "      <th>1</th>\n",
       "      <td>3</td>\n",
       "      <td>0</td>\n",
       "      <td>2</td>\n",
       "      <td>True</td>\n",
       "      <td>1720.0</td>\n",
       "      <td>5.0</td>\n",
       "      <td>5.0</td>\n",
       "      <td>2</td>\n",
       "      <td>8</td>\n",
       "      <td>3.805000</td>\n",
       "      <td>19.0</td>\n",
       "      <td>0.0</td>\n",
       "      <td>6.0</td>\n",
       "      <td>5.0</td>\n",
       "      <td>8.0</td>\n",
       "      <td>1</td>\n",
       "      <td>1.0</td>\n",
       "      <td>1.0</td>\n",
       "      <td>1</td>\n",
       "    </tr>\n",
       "    <tr>\n",
       "      <th>2</th>\n",
       "      <td>3</td>\n",
       "      <td>0</td>\n",
       "      <td>5</td>\n",
       "      <td>True</td>\n",
       "      <td>1606.0</td>\n",
       "      <td>1.0</td>\n",
       "      <td>0.0</td>\n",
       "      <td>2</td>\n",
       "      <td>12</td>\n",
       "      <td>2.577500</td>\n",
       "      <td>10.0</td>\n",
       "      <td>10.0</td>\n",
       "      <td>0.0</td>\n",
       "      <td>0.0</td>\n",
       "      <td>0.0</td>\n",
       "      <td>1</td>\n",
       "      <td>0.0</td>\n",
       "      <td>46.0</td>\n",
       "      <td>0</td>\n",
       "    </tr>\n",
       "    <tr>\n",
       "      <th>3</th>\n",
       "      <td>5</td>\n",
       "      <td>4</td>\n",
       "      <td>2</td>\n",
       "      <td>True</td>\n",
       "      <td>2973.0</td>\n",
       "      <td>4.0</td>\n",
       "      <td>2.0</td>\n",
       "      <td>0</td>\n",
       "      <td>15</td>\n",
       "      <td>3.734166</td>\n",
       "      <td>14.0</td>\n",
       "      <td>2.0</td>\n",
       "      <td>4.0</td>\n",
       "      <td>6.0</td>\n",
       "      <td>2.0</td>\n",
       "      <td>0</td>\n",
       "      <td>0.0</td>\n",
       "      <td>0.0</td>\n",
       "      <td>1</td>\n",
       "    </tr>\n",
       "    <tr>\n",
       "      <th>5</th>\n",
       "      <td>8</td>\n",
       "      <td>0</td>\n",
       "      <td>0</td>\n",
       "      <td>True</td>\n",
       "      <td>2768.0</td>\n",
       "      <td>5.0</td>\n",
       "      <td>3.0</td>\n",
       "      <td>2</td>\n",
       "      <td>10</td>\n",
       "      <td>3.894166</td>\n",
       "      <td>22.0</td>\n",
       "      <td>0.0</td>\n",
       "      <td>7.0</td>\n",
       "      <td>4.0</td>\n",
       "      <td>11.0</td>\n",
       "      <td>0</td>\n",
       "      <td>0.0</td>\n",
       "      <td>10.0</td>\n",
       "      <td>0</td>\n",
       "    </tr>\n",
       "  </tbody>\n",
       "</table>\n",
       "</div>"
      ],
      "text/plain": [
       "   source_attribution_type  user_os_type  quiz_answer  resume_flag  \\\n",
       "0                        3             1            0         True   \n",
       "1                        3             0            2         True   \n",
       "2                        3             0            5         True   \n",
       "3                        5             4            2         True   \n",
       "5                        8             0            0         True   \n",
       "\n",
       "   num_chars_resume  years_of_experience  years_of_remote_experience  \\\n",
       "0            3557.0                 10.0                         5.0   \n",
       "1            1720.0                  5.0                         5.0   \n",
       "2            1606.0                  1.0                         0.0   \n",
       "3            2973.0                  4.0                         2.0   \n",
       "5            2768.0                  5.0                         3.0   \n",
       "\n",
       "   english_communication  role_type  sn_avg_score  num_self_skills  \\\n",
       "0                      2          8      4.707500             20.0   \n",
       "1                      2          8      3.805000             19.0   \n",
       "2                      2         12      2.577500             10.0   \n",
       "3                      0         15      3.734166             14.0   \n",
       "5                      2         10      3.894166             22.0   \n",
       "\n",
       "   num_self_beginner_skills  num_self_intermediate_skills  \\\n",
       "0                       2.0                           8.0   \n",
       "1                       0.0                           6.0   \n",
       "2                      10.0                           0.0   \n",
       "3                       2.0                           4.0   \n",
       "5                       0.0                           7.0   \n",
       "\n",
       "   num_self_advanced_skills  num_self_expert_skills  is_github  \\\n",
       "0                       4.0                     6.0          0   \n",
       "1                       5.0                     8.0          1   \n",
       "2                       0.0                     0.0          1   \n",
       "3                       6.0                     2.0          0   \n",
       "5                       4.0                    11.0          0   \n",
       "\n",
       "   time_to_upload_resume  time_to_sn_test  is_quiz_answer_correct  \n",
       "0                    0.0              0.0                       0  \n",
       "1                    1.0              1.0                       1  \n",
       "2                    0.0             46.0                       0  \n",
       "3                    0.0              0.0                       1  \n",
       "5                    0.0             10.0                       0  "
      ]
     },
     "execution_count": 14,
     "metadata": {},
     "output_type": "execute_result"
    }
   ],
   "source": [
    "X.head()"
   ]
  },
  {
   "cell_type": "code",
   "execution_count": 15,
   "metadata": {},
   "outputs": [
    {
     "name": "stdout",
     "output_type": "stream",
     "text": [
      "X_train: (34633, 19) \n",
      "y_train: (34633,) \n",
      "X_test: (14844, 19) \n",
      "y_test: (14844,)\n",
      "Postive class in train data is 24.1% & Postive class in test data is 23.3%\n"
     ]
    },
    {
     "data": {
      "image/png": "[encoded data removed]",
      "text/plain": [
       "<Figure size 1400x700 with 1 Axes>"
      ]
     },
     "metadata": {},
     "output_type": "display_data"
    },
    {
     "data": {
      "image/png": "[encoded data removed]",
      "text/plain": [
       "<Figure size 1400x700 with 1 Axes>"
      ]
     },
     "metadata": {},
     "output_type": "display_data"
    }
   ],
   "source": [
    "from sklearn.metrics import roc_curve\n",
    "from lightgbm import LGBMClassifier\n",
    "\n",
    "X_train, X_test, y_train, y_test = train_test_split(X, Y, test_size=0.3, random_state=1)\n",
    "print(f\"X_train: {X_train.shape} \\ny_train: {y_train.shape} \\nX_test: {X_test.shape} \\ny_test: {y_test.shape}\")\n",
    "print(f\"Postive class in train data is {round(100*sum(y_train)/len(y_train),1)}% & Postive class in test data is {round(100*sum(y_test)/len(y_test),1)}%\")\n",
    "\n",
    "# define model\n",
    "lgb_model = LGBMClassifier(is_unbalance=True, objective='binary', max_depth=grid_result.best_params_['max_depth'],\n",
    "min_split_gain = grid_result.best_params_['min_split_gain'])\n",
    "lgb_model.fit(X_train, y_train)\n",
    "\n",
    "# compute true positive rate and false positive rate\n",
    "false_positive_rate, true_positive_rate, thresholds = roc_curve(y_test, lgb_model.predict(X_test))\n",
    "# plotting them against each other\n",
    "def plot_roc_curve(false_positive_rate, true_positive_rate, label=None):\n",
    "    plt.plot(false_positive_rate, true_positive_rate, linewidth=2, label=label)\n",
    "    plt.plot([0, 1], [0, 1], 'r', linewidth=4)\n",
    "    plt.axis([0, 1, 0, 1])\n",
    "    plt.xlabel('False Positive Rate (FPR)', fontsize=16)\n",
    "    plt.ylabel('True Positive Rate (TPR)', fontsize=16)\n",
    "\n",
    "plt.figure(figsize=(14, 7))\n",
    "plot_roc_curve(false_positive_rate, true_positive_rate)\n",
    "plt.show()\n",
    "\n",
    "\n",
    "from sklearn.metrics import precision_recall_curve\n",
    "\n",
    "# getting the probabilities of our predictions\n",
    "y_pred = lgb_model.predict_proba(X_test)\n",
    "y_pred = y_pred[:,1]\n",
    "\n",
    "precision, recall, threshold = precision_recall_curve(y_test, y_pred)\n",
    "\n",
    "def plot_precision_and_recall(precision, recall, threshold):\n",
    "    plt.plot(threshold, precision[:-1], \"r-\", label=\"precision\", linewidth=5)\n",
    "    plt.plot(threshold, recall[:-1], \"b\", label=\"recall\", linewidth=5)\n",
    "    plt.xlabel(\"threshold\", fontsize=19)\n",
    "    plt.legend(loc=\"upper right\", fontsize=19)\n",
    "    plt.ylim([0, 1])\n",
    "\n",
    "plt.figure(figsize=(14, 7))\n",
    "plot_precision_and_recall(precision, recall, threshold)\n",
    "plt.show()"
   ]
  },
  {
   "cell_type": "markdown",
   "metadata": {},
   "source": [
    "# Dummy Example"
   ]
  },
  {
   "cell_type": "code",
   "execution_count": 16,
   "metadata": {},
   "outputs": [
    {
     "name": "stdout",
     "output_type": "stream",
     "text": [
      "              precision    recall  f1-score   support\n",
      "\n",
      "           0       0.50      1.00      0.67         1\n",
      "           1       1.00      0.75      0.86         4\n",
      "\n",
      "    accuracy                           0.80         5\n",
      "   macro avg       0.75      0.88      0.76         5\n",
      "weighted avg       0.90      0.80      0.82         5\n",
      "\n",
      "0.8\n",
      "0.819047619047619\n",
      "0.7619047619047619\n",
      "0.8000000000000002\n"
     ]
    }
   ],
   "source": [
    "from sklearn.metrics import classification_report, accuracy_score, f1_score\n",
    "\n",
    "#recallc: when there is a positive label in y_true how many time we predict that correctly , same for negative \n",
    "#precision: when there is a positive label in y_pred how many time we predict that correctly , same for negative\n",
    "\n",
    "y_pred = [1, 1, 0,1,0]\n",
    "y_true = [1, 1, 1,1,0]\n",
    "print(classification_report(y_true, y_pred))\n",
    "print(accuracy_score(y_true, y_pred))\n",
    "print(f1_score(y_true, y_pred, average='weighted'))\n",
    "print(f1_score(y_true, y_pred, average='macro'))\n",
    "print(f1_score(y_true, y_pred, average='micro'))\n",
    "\n"
   ]
  },
  {
   "cell_type": "markdown",
   "metadata": {},
   "source": [
    "## P value "
   ]
  },
  {
   "cell_type": "code",
   "execution_count": 17,
   "metadata": {},
   "outputs": [],
   "source": [
    "from sklearn import datasets , linear_model\n",
    "from sklearn.linear_model import LinearRegression\n",
    "import statsmodels.api as sm\n",
    "from scipy import stats\n",
    "import pandas as pd\n",
    "import numpy as np"
   ]
  },
  {
   "cell_type": "code",
   "execution_count": 18,
   "metadata": {},
   "outputs": [],
   "source": [
    "data_dib = datasets.load_diabetes()\n",
    "X = data_dib.data\n",
    "Y = data_dib.target"
   ]
  },
  {
   "cell_type": "code",
   "execution_count": null,
   "metadata": {},
   "outputs": [],
   "source": []
  }
 ],
 "metadata": {
  "kernelspec": {
   "display_name": "Python 3 (ipykernel)",
   "language": "python",
   "name": "python3"
  },
  "language_info": {
   "codemirror_mode": {
    "name": "ipython",
    "version": 3
   },
   "file_extension": ".py",
   "mimetype": "text/x-python",
   "name": "python",
   "nbconvert_exporter": "python",
   "pygments_lexer": "ipython3",
   "version": "3.9.7"
  },
  "vscode": {
   "interpreter": {
    "hash": "0b40a10cff112520aa80f830971384ab531d715bed1af4e5eed180800b2768c0"
   }
  }
 },
 "nbformat": 4,
 "nbformat_minor": 2
}
